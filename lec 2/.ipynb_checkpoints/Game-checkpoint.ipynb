{
 "cells": [
  {
   "cell_type": "code",
   "execution_count": 1,
   "id": "f0f04b10-4b75-435d-bd70-f2fd410e3f77",
   "metadata": {
    "tags": []
   },
   "outputs": [],
   "source": [
    "# guessing game "
   ]
  },
  {
   "cell_type": "code",
   "execution_count": null,
   "id": "c4b7f358-7f2e-408c-b55f-fd3adef78f23",
   "metadata": {
    "tags": []
   },
   "outputs": [],
   "source": [
    "import random\n",
    "\n",
    "name = input(\"Enter your name here: \")\n",
    "print(f\"Hello {name}! Welcome to the Guessing game!\")\n",
    "words = [\"guessing\", \"apple\", \"earphones\", \"macbook\", \"python\",\n",
    "        \"television\", \"hiphop\",\"bottle\", \"watch\", \"table\", \"sunset\", \"opensource\"]\n",
    "# get a random word from the list\n",
    "index = random.randint(0, len(words))\n",
    "word = words[index]\n",
    "indexes = random.sample(range(0, len(word)), 3)\n",
    "guesses = \"\" \n",
    "\n",
    "for i in indexes:\n",
    "  guesses += word[i]\n",
    "\n",
    "chances = 10 \n",
    "play = \"yes\"\n",
    "\n",
    "def playAgain():\n",
    "     global play\n",
    "     play = input(\"Do you want to play again? (Yes/No): \")\n",
    "     if play == \"yes\" or \"y\" :\n",
    "        global  chances, word, guesses\n",
    "        chances = 10\n",
    "        index = random.randint(0, len(words))\n",
    "        word = words[index]\n",
    "        indexes = random.sample(range(0, len(word)), 3)\n",
    "        guesses = \"\" \n",
    "        for i in indexes:\n",
    "              guesses += word[i]\n",
    "    \n",
    "    \n",
    "while play == \"yes\":\n",
    "\n",
    "\n",
    "    indexes = random.sample(range(0, len(word)),3)\n",
    "    gusses = \"\" # character that the user has gussed so far\n",
    "    \n",
    "    for i in indexes:\n",
    "        gusses += word[i]\n",
    "    \n",
    "        \n",
    "    chances = 10 \n",
    "    \n",
    "    while chances > 0:\n",
    "        won = True\n",
    "        for ch in word:\n",
    "            if ch in gusses: # the person has gussed\n",
    "                print(ch, end=\" \")\n",
    "            else:\n",
    "                print(\"_\", end=\" \")\n",
    "                won = False\n",
    "          \n",
    "        if won:\n",
    "            print(\"\\n you Won!!\")\n",
    "            print(f\"Your Score is {chances * 10}\")\n",
    "            playAgain()\n",
    "            break\n",
    "                \n",
    "        # take a guess from the user \n",
    "        guess = input(\"\\n Guess a character: \")\n",
    "        gusses += guess\n",
    "        \n",
    "        if guess not in word:\n",
    "            chances -= 1\n",
    "            print(\"\\n wrong Answer!!\")\n",
    "            print(f\"you have {chances} chances left!!\")\n",
    "            \n",
    "            if chances == 0:\n",
    "                print(\"you lose!!\")\n",
    "                playAgain()\n",
    "                break"
   ]
  }
 ],
 "metadata": {
  "kernelspec": {
   "display_name": "Python 3 (ipykernel)",
   "language": "python",
   "name": "python3"
  },
  "language_info": {
   "codemirror_mode": {
    "name": "ipython",
    "version": 3
   },
   "file_extension": ".py",
   "mimetype": "text/x-python",
   "name": "python",
   "nbconvert_exporter": "python",
   "pygments_lexer": "ipython3",
   "version": "3.10.6"
  }
 },
 "nbformat": 4,
 "nbformat_minor": 5
}
