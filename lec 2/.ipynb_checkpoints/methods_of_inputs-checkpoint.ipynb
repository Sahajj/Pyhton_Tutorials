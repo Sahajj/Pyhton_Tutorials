{
 "cells": [
  {
   "cell_type": "code",
   "execution_count": 1,
   "id": "a964b5aa-47dd-4a0b-a928-8fc186ce8765",
   "metadata": {
    "tags": []
   },
   "outputs": [],
   "source": [
    "# split, strip and join\n"
   ]
  },
  {
   "cell_type": "code",
   "execution_count": 19,
   "id": "322f09c3-b40a-4824-bc21-2e8f97dab444",
   "metadata": {
    "tags": []
   },
   "outputs": [],
   "source": [
    "a = \"  2  3  4  5  6 \""
   ]
  },
  {
   "cell_type": "code",
   "execution_count": 20,
   "id": "9bcb4ae8-dc5f-41f2-9ff1-c179af6cd81f",
   "metadata": {
    "tags": []
   },
   "outputs": [
    {
     "data": {
      "text/plain": [
       "'2  3  4  5  6'"
      ]
     },
     "execution_count": 20,
     "metadata": {},
     "output_type": "execute_result"
    }
   ],
   "source": [
    "a.strip()"
   ]
  },
  {
   "cell_type": "code",
   "execution_count": 21,
   "id": "f3baa45a-1df8-42d4-ad97-7c4d3a6a6292",
   "metadata": {
    "tags": []
   },
   "outputs": [],
   "source": [
    "#split "
   ]
  },
  {
   "cell_type": "code",
   "execution_count": 26,
   "id": "00046455-fceb-442b-b4dc-bbd8e53b0c7d",
   "metadata": {
    "tags": []
   },
   "outputs": [],
   "source": [
    "li = a.split()"
   ]
  },
  {
   "cell_type": "code",
   "execution_count": 27,
   "id": "68881786-924f-4298-81a0-404f1bb0c284",
   "metadata": {
    "tags": []
   },
   "outputs": [
    {
     "data": {
      "text/plain": [
       "['2', '3', '4', '5', '6']"
      ]
     },
     "execution_count": 27,
     "metadata": {},
     "output_type": "execute_result"
    }
   ],
   "source": [
    "li"
   ]
  },
  {
   "cell_type": "code",
   "execution_count": 28,
   "id": "028e8707-2896-494e-b17c-17d9d996cee2",
   "metadata": {
    "tags": []
   },
   "outputs": [],
   "source": [
    "# what to do ?"
   ]
  },
  {
   "cell_type": "code",
   "execution_count": 29,
   "id": "7f2ce7a4-4d21-419d-850f-bb32d9885910",
   "metadata": {
    "tags": []
   },
   "outputs": [],
   "source": [
    "#apply the int funtion to every elemnt of the list "
   ]
  },
  {
   "cell_type": "code",
   "execution_count": 32,
   "id": "e9fc57da-69f3-4881-b536-c82662629c6c",
   "metadata": {
    "tags": []
   },
   "outputs": [],
   "source": [
    "li = list(map(int , li))"
   ]
  },
  {
   "cell_type": "code",
   "execution_count": 33,
   "id": "9808b5f8-0abb-4520-836d-e0b45231691b",
   "metadata": {
    "tags": []
   },
   "outputs": [
    {
     "data": {
      "text/plain": [
       "[2, 3, 4, 5, 6]"
      ]
     },
     "execution_count": 33,
     "metadata": {},
     "output_type": "execute_result"
    }
   ],
   "source": [
    "li"
   ]
  },
  {
   "cell_type": "code",
   "execution_count": 34,
   "id": "444acc14-135e-4297-86ce-9ab435339fac",
   "metadata": {
    "tags": []
   },
   "outputs": [
    {
     "data": {
      "text/plain": [
       "20"
      ]
     },
     "execution_count": 34,
     "metadata": {},
     "output_type": "execute_result"
    }
   ],
   "source": [
    "sum(li)"
   ]
  },
  {
   "cell_type": "code",
   "execution_count": 35,
   "id": "0ed59c79-b1e9-4f1d-80c4-64a9e5186bbb",
   "metadata": {
    "tags": []
   },
   "outputs": [],
   "source": [
    "# why do we care ?"
   ]
  },
  {
   "cell_type": "code",
   "execution_count": 58,
   "id": "9a9ea119-98ba-49a3-9587-2dca865b7103",
   "metadata": {
    "tags": []
   },
   "outputs": [
    {
     "name": "stdin",
     "output_type": "stream",
     "text": [
      " 1 2 3 45\n"
     ]
    }
   ],
   "source": [
    "li = input()"
   ]
  },
  {
   "cell_type": "code",
   "execution_count": 60,
   "id": "5b615969-57c6-45cb-8cec-f13e0216680a",
   "metadata": {
    "tags": []
   },
   "outputs": [
    {
     "data": {
      "text/plain": [
       "'1* *2* *3* *4*5'"
      ]
     },
     "execution_count": 60,
     "metadata": {},
     "output_type": "execute_result"
    }
   ],
   "source": [
    "\"*\".join(li)"
   ]
  },
  {
   "cell_type": "code",
   "execution_count": 38,
   "id": "00850855-8287-45e8-ac67-3b7b34c5c400",
   "metadata": {
    "tags": []
   },
   "outputs": [],
   "source": [
    "li = li.split()"
   ]
  },
  {
   "cell_type": "code",
   "execution_count": 57,
   "id": "927f93db-5857-4935-8093-c3e244608cf6",
   "metadata": {
    "tags": []
   },
   "outputs": [
    {
     "data": {
      "text/plain": [
       "[1, 2, 3, 45]"
      ]
     },
     "execution_count": 57,
     "metadata": {},
     "output_type": "execute_result"
    }
   ],
   "source": [
    "list(map(int, li))"
   ]
  },
  {
   "cell_type": "code",
   "execution_count": 40,
   "id": "39bb5647-ec6d-46b6-ad80-277e202271f0",
   "metadata": {
    "tags": []
   },
   "outputs": [],
   "source": [
    "# printing "
   ]
  },
  {
   "cell_type": "code",
   "execution_count": 41,
   "id": "7cc5a8c1-30ed-4fc0-8309-08747f69f356",
   "metadata": {
    "tags": []
   },
   "outputs": [
    {
     "name": "stdout",
     "output_type": "stream",
     "text": [
      "34 56\n"
     ]
    }
   ],
   "source": [
    "print(34, 56)"
   ]
  },
  {
   "cell_type": "code",
   "execution_count": 42,
   "id": "eee5026a-1445-4519-977b-55d860aef95b",
   "metadata": {
    "tags": []
   },
   "outputs": [
    {
     "name": "stdout",
     "output_type": "stream",
     "text": [
      "34-56\n"
     ]
    }
   ],
   "source": [
    "print(34,56, sep=\"-\")"
   ]
  },
  {
   "cell_type": "code",
   "execution_count": 43,
   "id": "73e184a9-1684-467d-8816-5296a2fa22eb",
   "metadata": {
    "tags": []
   },
   "outputs": [],
   "source": [
    "a = 30 "
   ]
  },
  {
   "cell_type": "code",
   "execution_count": 44,
   "id": "5f54d8f9-acf9-4547-bc40-f56980213a12",
   "metadata": {
    "tags": []
   },
   "outputs": [],
   "source": [
    "b = 47"
   ]
  },
  {
   "cell_type": "code",
   "execution_count": 45,
   "id": "da54c9b8-5383-4cdd-98de-d5ec23f03b9b",
   "metadata": {
    "tags": []
   },
   "outputs": [
    {
     "name": "stdout",
     "output_type": "stream",
     "text": [
      "the two numbers are 30 and 47\n"
     ]
    }
   ],
   "source": [
    "print(\"the two numbers are\", a, \"and\", b) "
   ]
  },
  {
   "cell_type": "code",
   "execution_count": 46,
   "id": "c3f8c943-31aa-4710-a179-29413e2099ce",
   "metadata": {
    "tags": []
   },
   "outputs": [
    {
     "name": "stdout",
     "output_type": "stream",
     "text": [
      "The two numbers are 30 and 47\n"
     ]
    }
   ],
   "source": [
    "print(\"The two numbers are {} and {}\".format(a, b))"
   ]
  },
  {
   "cell_type": "code",
   "execution_count": 47,
   "id": "e94d9772-efad-4b50-861e-73be1f4b855f",
   "metadata": {
    "tags": []
   },
   "outputs": [],
   "source": [
    "# the best way "
   ]
  },
  {
   "cell_type": "code",
   "execution_count": 48,
   "id": "0afe891e-1041-4b0e-ae1c-bba9abb4fa6b",
   "metadata": {
    "tags": []
   },
   "outputs": [],
   "source": [
    "# f string "
   ]
  },
  {
   "cell_type": "code",
   "execution_count": 49,
   "id": "0b7d0dea-a03a-4fe9-b201-1434f3a111d1",
   "metadata": {
    "tags": []
   },
   "outputs": [
    {
     "name": "stdout",
     "output_type": "stream",
     "text": [
      "the two numebrs are 30 and 47\n"
     ]
    }
   ],
   "source": [
    "print(f\"the two numebrs are {a} and {b}\")"
   ]
  },
  {
   "cell_type": "code",
   "execution_count": 50,
   "id": "1ab013cf-bdc9-4192-b6cc-3dabb5dd5e87",
   "metadata": {
    "tags": []
   },
   "outputs": [],
   "source": [
    "# join "
   ]
  },
  {
   "cell_type": "code",
   "execution_count": 51,
   "id": "528e5862-b249-4c7c-af1a-466b131c46df",
   "metadata": {
    "tags": []
   },
   "outputs": [
    {
     "data": {
      "text/plain": [
       "['1', '2', '3', '45']"
      ]
     },
     "execution_count": 51,
     "metadata": {},
     "output_type": "execute_result"
    }
   ],
   "source": [
    "li \n"
   ]
  },
  {
   "cell_type": "code",
   "execution_count": 55,
   "id": "f8039a4b-e011-468f-8481-afd92d66ec40",
   "metadata": {
    "tags": []
   },
   "outputs": [],
   "source": [
    "li = list(map(int,li))"
   ]
  },
  {
   "cell_type": "code",
   "execution_count": 56,
   "id": "3716febc-c40a-4dfc-ad7f-37ff9b70f8f1",
   "metadata": {
    "tags": []
   },
   "outputs": [
    {
     "data": {
      "text/plain": [
       "[1, 2, 3, 45]"
      ]
     },
     "execution_count": 56,
     "metadata": {},
     "output_type": "execute_result"
    }
   ],
   "source": [
    "li"
   ]
  },
  {
   "cell_type": "code",
   "execution_count": null,
   "id": "68f99e0d-69f4-4931-be85-b04ee5a0e8e5",
   "metadata": {},
   "outputs": [],
   "source": [
    "\"-\".join(li)"
   ]
  }
 ],
 "metadata": {
  "kernelspec": {
   "display_name": "Python 3 (ipykernel)",
   "language": "python",
   "name": "python3"
  },
  "language_info": {
   "codemirror_mode": {
    "name": "ipython",
    "version": 3
   },
   "file_extension": ".py",
   "mimetype": "text/x-python",
   "name": "python",
   "nbconvert_exporter": "python",
   "pygments_lexer": "ipython3",
   "version": "3.10.6"
  }
 },
 "nbformat": 4,
 "nbformat_minor": 5
}
