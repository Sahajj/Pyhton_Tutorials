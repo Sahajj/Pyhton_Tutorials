{
 "cells": [
  {
   "cell_type": "code",
   "execution_count": 1,
   "id": "617d1335-2092-487a-9c62-e9c39ce49946",
   "metadata": {
    "tags": []
   },
   "outputs": [],
   "source": [
    "# inheritance"
   ]
  },
  {
   "cell_type": "code",
   "execution_count": 2,
   "id": "f9f4f1c1-6b56-43ce-b3c1-99056b81d6f6",
   "metadata": {
    "tags": []
   },
   "outputs": [],
   "source": [
    "class Parent:\n",
    "    f = 80\n",
    "    def __init__(self, value):\n",
    "        self.value = value"
   ]
  },
  {
   "cell_type": "code",
   "execution_count": 3,
   "id": "097b17fe-be03-47cd-9242-a98589740fa9",
   "metadata": {
    "tags": []
   },
   "outputs": [],
   "source": [
    "class Child(Parent):\n",
    "    def __init__(slef, value):\n",
    "        super().__init__(value)"
   ]
  },
  {
   "cell_type": "code",
   "execution_count": 4,
   "id": "f0a84e6c-032b-4496-8cd8-b63fa666a884",
   "metadata": {
    "tags": []
   },
   "outputs": [],
   "source": [
    "parent = Parent(56)"
   ]
  },
  {
   "cell_type": "code",
   "execution_count": 5,
   "id": "27a1d65c-6940-439f-b2f2-8c9cc36f6864",
   "metadata": {
    "tags": []
   },
   "outputs": [
    {
     "data": {
      "text/plain": [
       "(56, 80)"
      ]
     },
     "execution_count": 5,
     "metadata": {},
     "output_type": "execute_result"
    }
   ],
   "source": [
    "parent.value, parent.f"
   ]
  },
  {
   "cell_type": "code",
   "execution_count": 6,
   "id": "0200a7cb-12bb-47b1-b365-885ed04c9f56",
   "metadata": {
    "tags": []
   },
   "outputs": [
    {
     "data": {
      "text/plain": [
       "(80, 67)"
      ]
     },
     "execution_count": 6,
     "metadata": {},
     "output_type": "execute_result"
    }
   ],
   "source": [
    "obj = Child(67)\n",
    "obj.f, obj.value"
   ]
  },
  {
   "cell_type": "code",
   "execution_count": 7,
   "id": "742d750a-fa7c-47f2-9658-81031e81307b",
   "metadata": {
    "tags": []
   },
   "outputs": [],
   "source": [
    "obj2 = Parent(89)"
   ]
  },
  {
   "cell_type": "code",
   "execution_count": 8,
   "id": "cd2c8848-ba0a-4b12-a1cf-250a0625c7a8",
   "metadata": {
    "tags": []
   },
   "outputs": [
    {
     "ename": "AttributeError",
     "evalue": "type object 'Child' has no attribute 'value'",
     "output_type": "error",
     "traceback": [
      "\u001b[0;31m---------------------------------------------------------------------------\u001b[0m",
      "\u001b[0;31mAttributeError\u001b[0m                            Traceback (most recent call last)",
      "Cell \u001b[0;32mIn[8], line 1\u001b[0m\n\u001b[0;32m----> 1\u001b[0m \u001b[43mChild\u001b[49m\u001b[38;5;241;43m.\u001b[39;49m\u001b[43mvalue\u001b[49m\n",
      "\u001b[0;31mAttributeError\u001b[0m: type object 'Child' has no attribute 'value'"
     ]
    }
   ],
   "source": [
    "Child.value"
   ]
  },
  {
   "cell_type": "code",
   "execution_count": 9,
   "id": "ef4c5a6a-e758-4919-bc86-96e89c4af92f",
   "metadata": {
    "tags": []
   },
   "outputs": [],
   "source": [
    "# I want to hide some varibales \n",
    "# juggas for private variables in python"
   ]
  },
  {
   "cell_type": "code",
   "execution_count": 10,
   "id": "ac312069-ad87-493f-84c4-a3cc75baea99",
   "metadata": {
    "tags": []
   },
   "outputs": [],
   "source": [
    "class A:\n",
    "    def __init__(self, value):\n",
    "        self.__value = value\n",
    "        # internally python changes __value to _A_value"
   ]
  },
  {
   "cell_type": "code",
   "execution_count": 11,
   "id": "4af48bdd-89b1-4303-9c0f-ac17c38665c6",
   "metadata": {
    "tags": []
   },
   "outputs": [],
   "source": [
    "obj = A(89)"
   ]
  },
  {
   "cell_type": "code",
   "execution_count": 12,
   "id": "98c556c1-afab-4273-9fd5-1beadd3cb8cd",
   "metadata": {
    "tags": []
   },
   "outputs": [
    {
     "data": {
      "text/plain": [
       "89"
      ]
     },
     "execution_count": 12,
     "metadata": {},
     "output_type": "execute_result"
    }
   ],
   "source": [
    "obj._A__value #not really private "
   ]
  },
  {
   "cell_type": "code",
   "execution_count": null,
   "id": "56210644-e4c2-4d4d-a66d-2899929be9a3",
   "metadata": {},
   "outputs": [],
   "source": []
  },
  {
   "cell_type": "code",
   "execution_count": 13,
   "id": "f773c2cf-050d-48c1-ad60-0083c567be13",
   "metadata": {
    "tags": []
   },
   "outputs": [],
   "source": [
    "# access modifiers totally depends on teh person writing the code "
   ]
  },
  {
   "cell_type": "code",
   "execution_count": 14,
   "id": "a4cbbb18-9ee2-4d96-b233-7bb618b5564c",
   "metadata": {
    "tags": []
   },
   "outputs": [],
   "source": [
    "# Not as good as C++/JAVA\n"
   ]
  },
  {
   "cell_type": "code",
   "execution_count": 15,
   "id": "8b1a74da-b140-4611-a22c-87d7e80ebfd3",
   "metadata": {
    "tags": []
   },
   "outputs": [],
   "source": [
    "# Scoping "
   ]
  },
  {
   "cell_type": "code",
   "execution_count": null,
   "id": "dffcd494-e0ca-4832-8e9e-2630a2257a00",
   "metadata": {
    "tags": []
   },
   "outputs": [],
   "source": []
  },
  {
   "cell_type": "code",
   "execution_count": 16,
   "id": "acc78f27-5edb-4b54-ac4d-12e7ae90fb74",
   "metadata": {
    "tags": []
   },
   "outputs": [
    {
     "ename": "NameError",
     "evalue": "name 'fun' is not defined",
     "output_type": "error",
     "traceback": [
      "\u001b[0;31m---------------------------------------------------------------------------\u001b[0m",
      "\u001b[0;31mNameError\u001b[0m                                 Traceback (most recent call last)",
      "Cell \u001b[0;32mIn[16], line 1\u001b[0m\n\u001b[0;32m----> 1\u001b[0m \u001b[43mfun\u001b[49m()\n",
      "\u001b[0;31mNameError\u001b[0m: name 'fun' is not defined"
     ]
    }
   ],
   "source": [
    "fun()"
   ]
  },
  {
   "cell_type": "code",
   "execution_count": 17,
   "id": "55b456f0-7e16-4878-9326-ea9d7e4f9f42",
   "metadata": {
    "tags": []
   },
   "outputs": [
    {
     "ename": "NameError",
     "evalue": "name 'a' is not defined",
     "output_type": "error",
     "traceback": [
      "\u001b[0;31m---------------------------------------------------------------------------\u001b[0m",
      "\u001b[0;31mNameError\u001b[0m                                 Traceback (most recent call last)",
      "Cell \u001b[0;32mIn[17], line 1\u001b[0m\n\u001b[0;32m----> 1\u001b[0m \u001b[38;5;28mprint\u001b[39m(\u001b[43ma\u001b[49m) \u001b[38;5;66;03m# cannot acces from outside \u001b[39;00m\n",
      "\u001b[0;31mNameError\u001b[0m: name 'a' is not defined"
     ]
    }
   ],
   "source": [
    "print(a) # cannot acces from outside "
   ]
  },
  {
   "cell_type": "code",
   "execution_count": 18,
   "id": "9ef6b289-4896-4337-a593-ce7d31e3664e",
   "metadata": {
    "tags": []
   },
   "outputs": [
    {
     "name": "stdout",
     "output_type": "stream",
     "text": [
      "70\n"
     ]
    }
   ],
   "source": [
    "a = 20 \n",
    "def fun():\n",
    "    a = 60 \n",
    "    a = a+10 \n",
    "    print(a)\n",
    "    \n",
    "fun()"
   ]
  },
  {
   "cell_type": "code",
   "execution_count": 19,
   "id": "9561b667-838e-47d4-be2f-69a1c59866c4",
   "metadata": {
    "tags": []
   },
   "outputs": [],
   "source": [
    "# you can access but cannot change directly \n",
    "## LEGB rule \n",
    "# Local -->enclosed --> Golbal --> BuiltIn\n",
    "# this is how python finds your variables."
   ]
  },
  {
   "cell_type": "code",
   "execution_count": 20,
   "id": "5c0cd2de-3f3d-4222-9e65-358832482a11",
   "metadata": {
    "tags": []
   },
   "outputs": [],
   "source": [
    "x = 50 \n",
    "def a():\n",
    "    x = 10 # this is loacal to a \n",
    "    # this x = 10, this is enclosed for b()\n",
    "    \n",
    "    def b():\n",
    "        x = 40 #this is local to b \n",
    "        print(\"x in b () is\", x)\n",
    "        print(\"loacls for b are:\", locals())\n",
    "    \n",
    "    print(\"x in a() is \", x)\n",
    "    print(\"local for a are :\", locals())\n",
    "    return b()"
   ]
  },
  {
   "cell_type": "code",
   "execution_count": 21,
   "id": "0a5b5164-dc74-45d5-b56c-3fc7133aab2a",
   "metadata": {
    "tags": []
   },
   "outputs": [
    {
     "name": "stdout",
     "output_type": "stream",
     "text": [
      "x in a() is  10\n",
      "local for a are : {'x': 10, 'b': <function a.<locals>.b at 0x7fd8f869e950>}\n",
      "x in b () is 40\n",
      "loacls for b are: {'x': 40}\n"
     ]
    }
   ],
   "source": [
    "a()"
   ]
  },
  {
   "cell_type": "code",
   "execution_count": 22,
   "id": "9fa0d4cb-991b-41c5-be29-1421e0feb5f6",
   "metadata": {},
   "outputs": [
    {
     "name": "stdout",
     "output_type": "stream",
     "text": [
      "256\n",
      "10\n",
      "45\n",
      "356\n",
      "X ki value in b after running c() 45\n"
     ]
    }
   ],
   "source": [
    "x = 256 \n",
    "\n",
    "def a():\n",
    "    x=10\n",
    "    \n",
    "    def b():\n",
    "        x=45\n",
    "        \n",
    "        def c():\n",
    "            # nonlocal x \n",
    "            # takes value from the above function.\n",
    "            global x\n",
    "            # takes value from global variables \n",
    "            x += 100\n",
    "            print(x)\n",
    "            \n",
    "        print(x)\n",
    "        c()\n",
    "        print(\"X ki value in b after running c()\",x) #145\n",
    "        \n",
    "    print(x)\n",
    "    b()\n",
    "\n",
    "print(x) \n",
    "a()"
   ]
  },
  {
   "cell_type": "code",
   "execution_count": 23,
   "id": "b2904f9d-fa3f-408c-9fed-69ecd68b7ec9",
   "metadata": {
    "tags": []
   },
   "outputs": [],
   "source": [
    "# closure "
   ]
  },
  {
   "cell_type": "code",
   "execution_count": 24,
   "id": "106643dd-44b1-4d8f-9822-4ce73afc0580",
   "metadata": {
    "tags": []
   },
   "outputs": [],
   "source": [
    "def outer_func():\n",
    "    message = \"HI\"\n",
    "    cool = \"Lest see\" # this will be not be a part of the closure as it is \n",
    "    # not used in inner function \n",
    "    \n",
    "    def inner_func():\n",
    "        print(locals())\n",
    "        print(message) # free variable \n",
    "    \n",
    "    print(cool)\n",
    "    return inner_func"
   ]
  },
  {
   "cell_type": "code",
   "execution_count": 25,
   "id": "8a3dd0b2-64fe-4562-a7ac-af554eebdae4",
   "metadata": {
    "tags": []
   },
   "outputs": [
    {
     "name": "stdout",
     "output_type": "stream",
     "text": [
      "Lest see\n"
     ]
    }
   ],
   "source": [
    "my_func = outer_func() # my_func = inner_func"
   ]
  },
  {
   "cell_type": "code",
   "execution_count": 26,
   "id": "029d3f12-6e5b-40dd-8505-454e0996b31d",
   "metadata": {
    "tags": []
   },
   "outputs": [
    {
     "name": "stdout",
     "output_type": "stream",
     "text": [
      "{'message': 'HI'}\n",
      "HI\n"
     ]
    }
   ],
   "source": [
    "my_func()"
   ]
  },
  {
   "cell_type": "code",
   "execution_count": 27,
   "id": "19e20aa0-f3ea-4095-ae4f-f3dfebbf94fd",
   "metadata": {
    "tags": []
   },
   "outputs": [],
   "source": [
    "# the inner function is closer \n",
    "# a closer is a fucntion and it always have a copy of the inclosed function\n",
    "# even though the work of outer_function is completed and it's now removed \n",
    "# from the memory but the variables are not removed from teh memory as they \n",
    "# still can be accesed by the inner variables."
   ]
  },
  {
   "cell_type": "code",
   "execution_count": 29,
   "id": "f18f05bd-de79-4bf6-93a6-0f11669487ae",
   "metadata": {
    "tags": []
   },
   "outputs": [],
   "source": [
    "# how to create a closure \n",
    "# nested function is a must \n",
    "# nested function should define a value that is accesed by the inner fucntion "
   ]
  },
  {
   "cell_type": "code",
   "execution_count": 36,
   "id": "872ecc4c-dbcd-462d-b589-2a40ad06d5f7",
   "metadata": {
    "tags": []
   },
   "outputs": [],
   "source": [
    "def make_mul(n):\n",
    "    def mul(x):\n",
    "        print(locals())\n",
    "        return x * n\n",
    "    return mul"
   ]
  },
  {
   "cell_type": "code",
   "execution_count": 37,
   "id": "24ea14d5-d057-477e-b7d4-5b6e0bdda854",
   "metadata": {
    "tags": []
   },
   "outputs": [],
   "source": [
    "times2 = make_mul(2)"
   ]
  },
  {
   "cell_type": "code",
   "execution_count": 38,
   "id": "dffec337-e743-4f37-84ca-18a049f5d487",
   "metadata": {
    "tags": []
   },
   "outputs": [],
   "source": [
    "times3 = make_mul(3)"
   ]
  },
  {
   "cell_type": "code",
   "execution_count": 39,
   "id": "42d49f2e-175a-47af-810c-b572d26d6b51",
   "metadata": {
    "tags": []
   },
   "outputs": [
    {
     "name": "stdout",
     "output_type": "stream",
     "text": [
      "{'x': 9, 'n': 3}\n"
     ]
    },
    {
     "data": {
      "text/plain": [
       "27"
      ]
     },
     "execution_count": 39,
     "metadata": {},
     "output_type": "execute_result"
    }
   ],
   "source": [
    "times3(9)"
   ]
  },
  {
   "cell_type": "code",
   "execution_count": null,
   "id": "0b0e70c1-1389-4a33-932b-8ca3b6bf8047",
   "metadata": {},
   "outputs": [],
   "source": []
  }
 ],
 "metadata": {
  "kernelspec": {
   "display_name": "Python 3 (ipykernel)",
   "language": "python",
   "name": "python3"
  },
  "language_info": {
   "codemirror_mode": {
    "name": "ipython",
    "version": 3
   },
   "file_extension": ".py",
   "mimetype": "text/x-python",
   "name": "python",
   "nbconvert_exporter": "python",
   "pygments_lexer": "ipython3",
   "version": "3.10.6"
  }
 },
 "nbformat": 4,
 "nbformat_minor": 5
}
