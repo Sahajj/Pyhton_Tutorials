{
 "cells": [
  {
   "cell_type": "code",
   "execution_count": 1,
   "id": "c63fabd0-610f-43e8-a95a-d26d80a0972c",
   "metadata": {
    "tags": []
   },
   "outputs": [],
   "source": [
    "#object oriented programming"
   ]
  },
  {
   "cell_type": "code",
   "execution_count": 3,
   "id": "503613ae-ba62-42ba-a813-d06c0ac12857",
   "metadata": {
    "tags": []
   },
   "outputs": [
    {
     "data": {
      "text/plain": [
       "15"
      ]
     },
     "execution_count": 3,
     "metadata": {},
     "output_type": "execute_result"
    }
   ],
   "source": [
    "sum([3,5,7])"
   ]
  },
  {
   "cell_type": "code",
   "execution_count": 5,
   "id": "44b54521-cc80-49e2-ba83-8ead3d3f428b",
   "metadata": {
    "tags": []
   },
   "outputs": [],
   "source": [
    "#siplest class "
   ]
  },
  {
   "cell_type": "code",
   "execution_count": 7,
   "id": "ea0a8782-1441-47c9-a48e-ff33bfd09b41",
   "metadata": {
    "tags": []
   },
   "outputs": [],
   "source": [
    "class Human:\n",
    "    age = 0\n",
    "    name = \"gumnaam\""
   ]
  },
  {
   "cell_type": "code",
   "execution_count": 8,
   "id": "45b256c8-36a8-42b7-8f15-9b02afb6b58d",
   "metadata": {
    "tags": []
   },
   "outputs": [],
   "source": [
    "kunal = Human()\n",
    "# whenever you create an object, a constructure is called \n",
    "# constructure is a function "
   ]
  },
  {
   "cell_type": "code",
   "execution_count": 9,
   "id": "7ce29ab1-2186-403d-bbee-1601e95b30b1",
   "metadata": {
    "tags": []
   },
   "outputs": [
    {
     "data": {
      "text/plain": [
       "0"
      ]
     },
     "execution_count": 9,
     "metadata": {},
     "output_type": "execute_result"
    }
   ],
   "source": [
    "kunal.age"
   ]
  },
  {
   "cell_type": "code",
   "execution_count": 10,
   "id": "55e9f85c-494f-4b45-83c1-49e05e3b3ef6",
   "metadata": {
    "tags": []
   },
   "outputs": [
    {
     "data": {
      "text/plain": [
       "'gumnaam'"
      ]
     },
     "execution_count": 10,
     "metadata": {},
     "output_type": "execute_result"
    }
   ],
   "source": [
    "kunal.name"
   ]
  },
  {
   "cell_type": "code",
   "execution_count": 11,
   "id": "d22f89bc-e196-40a7-8bf2-416361891f97",
   "metadata": {
    "tags": []
   },
   "outputs": [],
   "source": [
    "approv = Human()"
   ]
  },
  {
   "cell_type": "code",
   "execution_count": 12,
   "id": "e5c68983-b864-4166-bae8-2b64759b2c81",
   "metadata": {
    "tags": []
   },
   "outputs": [
    {
     "data": {
      "text/plain": [
       "(0, 0)"
      ]
     },
     "execution_count": 12,
     "metadata": {},
     "output_type": "execute_result"
    }
   ],
   "source": [
    "kunal.age, approv.age"
   ]
  },
  {
   "cell_type": "code",
   "execution_count": 13,
   "id": "0f0ae9b8-dff5-4811-a95d-b4414a392c27",
   "metadata": {
    "tags": []
   },
   "outputs": [],
   "source": [
    "kunal.name = \"Kunal ksuhwha\"\n",
    "approv.name = \"Aporav whatever\""
   ]
  },
  {
   "cell_type": "code",
   "execution_count": 14,
   "id": "f36d50f1-f33e-4587-8d05-56f1d40fd627",
   "metadata": {
    "tags": []
   },
   "outputs": [
    {
     "data": {
      "text/plain": [
       "'Kunal ksuhwha'"
      ]
     },
     "execution_count": 14,
     "metadata": {},
     "output_type": "execute_result"
    }
   ],
   "source": [
    "kunal.name "
   ]
  },
  {
   "cell_type": "code",
   "execution_count": 16,
   "id": "bcc1ad71-86fe-4703-b041-8b1cf5b5344d",
   "metadata": {
    "tags": []
   },
   "outputs": [
    {
     "data": {
      "text/plain": [
       "'Aporav whatever'"
      ]
     },
     "execution_count": 16,
     "metadata": {},
     "output_type": "execute_result"
    }
   ],
   "source": [
    "approv.name"
   ]
  },
  {
   "cell_type": "code",
   "execution_count": 17,
   "id": "0a64337b-c65e-44df-a6be-a6ec92aaa789",
   "metadata": {
    "tags": []
   },
   "outputs": [
    {
     "data": {
      "text/plain": [
       "('Kunal ksuhwha', 'Aporav whatever')"
      ]
     },
     "execution_count": 17,
     "metadata": {},
     "output_type": "execute_result"
    }
   ],
   "source": [
    "kunal.name, approv.name"
   ]
  },
  {
   "cell_type": "code",
   "execution_count": 18,
   "id": "b32e69f5-f919-4098-8584-60a01165a988",
   "metadata": {
    "tags": []
   },
   "outputs": [],
   "source": [
    "Human.salary = 10000"
   ]
  },
  {
   "cell_type": "code",
   "execution_count": 19,
   "id": "f7300ceb-9d4c-4124-8b8d-8d37515b6039",
   "metadata": {
    "tags": []
   },
   "outputs": [],
   "source": [
    "kunal.salary = 5000"
   ]
  },
  {
   "cell_type": "code",
   "execution_count": 21,
   "id": "b7b929aa-5d31-4374-a502-5299c988f867",
   "metadata": {
    "tags": []
   },
   "outputs": [
    {
     "data": {
      "text/plain": [
       "(10000, 5000, 10000)"
      ]
     },
     "execution_count": 21,
     "metadata": {},
     "output_type": "execute_result"
    }
   ],
   "source": [
    "Human.salary , kunal.salary, approv.salary"
   ]
  },
  {
   "cell_type": "code",
   "execution_count": 22,
   "id": "61e752e1-bc40-471b-89c3-6e5996ffdfbd",
   "metadata": {
    "tags": []
   },
   "outputs": [],
   "source": [
    "# solution?\n",
    "# i want to assign these values, when the object is created"
   ]
  },
  {
   "cell_type": "code",
   "execution_count": 54,
   "id": "0e27254c-f1eb-4065-a1f5-608b1c07d6a3",
   "metadata": {
    "tags": []
   },
   "outputs": [],
   "source": [
    "class Human:\n",
    "    def fun(self):\n",
    "        print(self.age)"
   ]
  },
  {
   "cell_type": "code",
   "execution_count": 55,
   "id": "ab87d80c-e827-49e3-9065-5a14cce57176",
   "metadata": {
    "tags": []
   },
   "outputs": [],
   "source": [
    "approv = Human()"
   ]
  },
  {
   "cell_type": "code",
   "execution_count": 56,
   "id": "803179c0-ec07-44c7-9524-ea16b071f174",
   "metadata": {
    "tags": []
   },
   "outputs": [],
   "source": [
    "approv.age = 45"
   ]
  },
  {
   "cell_type": "code",
   "execution_count": 57,
   "id": "938b9ec4-5389-47f4-9b4c-b91842131a97",
   "metadata": {
    "tags": []
   },
   "outputs": [
    {
     "name": "stdout",
     "output_type": "stream",
     "text": [
      "45\n"
     ]
    }
   ],
   "source": [
    "approv.fun()\n",
    "\n",
    "# this is same as :"
   ]
  },
  {
   "cell_type": "code",
   "execution_count": 58,
   "id": "bb6f85cd-cbf6-4629-b296-e49eab3a7fa0",
   "metadata": {
    "tags": []
   },
   "outputs": [
    {
     "name": "stdout",
     "output_type": "stream",
     "text": [
      "45\n"
     ]
    }
   ],
   "source": [
    "Human.fun(approv)"
   ]
  },
  {
   "cell_type": "code",
   "execution_count": 59,
   "id": "2da804b2-9fd4-43dc-a860-781212d43aa3",
   "metadata": {
    "tags": []
   },
   "outputs": [],
   "source": [
    "kunal = Human()\n",
    "kunal.age = 89"
   ]
  },
  {
   "cell_type": "code",
   "execution_count": 60,
   "id": "3eb76931-f618-4e6c-9994-c8a387c68821",
   "metadata": {
    "tags": []
   },
   "outputs": [
    {
     "name": "stdout",
     "output_type": "stream",
     "text": [
      "45\n"
     ]
    }
   ],
   "source": [
    "approv.fun()"
   ]
  },
  {
   "cell_type": "code",
   "execution_count": 61,
   "id": "28d4293f-3496-4f36-8d55-123b168540dc",
   "metadata": {
    "tags": []
   },
   "outputs": [
    {
     "name": "stdout",
     "output_type": "stream",
     "text": [
      "45\n"
     ]
    }
   ],
   "source": [
    "Human.fun(approv)"
   ]
  },
  {
   "cell_type": "code",
   "execution_count": 62,
   "id": "4bcc75c0-ca3c-40ba-9910-9905a1e78df9",
   "metadata": {
    "tags": []
   },
   "outputs": [
    {
     "name": "stdout",
     "output_type": "stream",
     "text": [
      "89\n"
     ]
    }
   ],
   "source": [
    "kunal.fun()"
   ]
  },
  {
   "cell_type": "code",
   "execution_count": 65,
   "id": "c5319310-7216-432e-95d3-71b682fc2cbb",
   "metadata": {},
   "outputs": [],
   "source": [
    "# def __MagicMethod__  magic method or dender methods :that \n",
    "# are inbuilt in pyhton but we are overriding their already \n",
    "# present methods."
   ]
  },
  {
   "cell_type": "code",
   "execution_count": 73,
   "id": "efc699af-dcb3-4b69-819f-8bda794ded2b",
   "metadata": {
    "tags": []
   },
   "outputs": [],
   "source": [
    "class King:\n",
    "    #overriding\n",
    "    def __init__(self, n, a):\n",
    "        self.age = a\n",
    "        self.name = n\n",
    "    "
   ]
  },
  {
   "cell_type": "code",
   "execution_count": 74,
   "id": "5b9e329a-edd0-4fac-a4e4-011f5c23374f",
   "metadata": {
    "tags": []
   },
   "outputs": [],
   "source": [
    "Sahaj = King(\"Sahaj jain\", 21)"
   ]
  },
  {
   "cell_type": "code",
   "execution_count": 75,
   "id": "694afd04-1b4a-4edb-8bf0-4c57b07ecaa7",
   "metadata": {
    "tags": []
   },
   "outputs": [
    {
     "data": {
      "text/plain": [
       "('Sahaj jain', 21)"
      ]
     },
     "execution_count": 75,
     "metadata": {},
     "output_type": "execute_result"
    }
   ],
   "source": [
    "Sahaj.name, Sahaj.age"
   ]
  },
  {
   "cell_type": "code",
   "execution_count": 76,
   "id": "69eca9c1-bbb8-4df8-a2e5-8f95759de984",
   "metadata": {
    "tags": []
   },
   "outputs": [],
   "source": [
    "Kuku = King(\"kuku soni\", 49)"
   ]
  },
  {
   "cell_type": "code",
   "execution_count": 77,
   "id": "c23a99eb-4f8f-4b47-bb15-0eec10d4e6fc",
   "metadata": {
    "tags": []
   },
   "outputs": [
    {
     "data": {
      "text/plain": [
       "('kuku soni', 49)"
      ]
     },
     "execution_count": 77,
     "metadata": {},
     "output_type": "execute_result"
    }
   ],
   "source": [
    "Kuku.name , Kuku.age"
   ]
  },
  {
   "cell_type": "code",
   "execution_count": 78,
   "id": "71b3fd78-55eb-4a37-9ada-a46e12f8c3f1",
   "metadata": {
    "tags": []
   },
   "outputs": [
    {
     "ename": "AttributeError",
     "evalue": "type object 'King' has no attribute 'name'",
     "output_type": "error",
     "traceback": [
      "\u001b[0;31m---------------------------------------------------------------------------\u001b[0m",
      "\u001b[0;31mAttributeError\u001b[0m                            Traceback (most recent call last)",
      "Cell \u001b[0;32mIn[78], line 1\u001b[0m\n\u001b[0;32m----> 1\u001b[0m \u001b[43mKing\u001b[49m\u001b[38;5;241;43m.\u001b[39;49m\u001b[43mname\u001b[49m, King\u001b[38;5;241m.\u001b[39mage\n",
      "\u001b[0;31mAttributeError\u001b[0m: type object 'King' has no attribute 'name'"
     ]
    }
   ],
   "source": [
    "King.name, King.age"
   ]
  },
  {
   "cell_type": "code",
   "execution_count": 79,
   "id": "03e0dcf3-4b31-4656-a4ec-a5faca6cb2ba",
   "metadata": {
    "tags": []
   },
   "outputs": [],
   "source": [
    "kunal.age = 22"
   ]
  },
  {
   "cell_type": "code",
   "execution_count": 80,
   "id": "d7de7252-064c-4b15-83a3-199a46f7bdc0",
   "metadata": {
    "tags": []
   },
   "outputs": [],
   "source": [
    "Sahaj.age = 22"
   ]
  },
  {
   "cell_type": "code",
   "execution_count": 81,
   "id": "5b20b2af-f279-4215-89a6-be3b4990cd78",
   "metadata": {
    "tags": []
   },
   "outputs": [
    {
     "data": {
      "text/plain": [
       "22"
      ]
     },
     "execution_count": 81,
     "metadata": {},
     "output_type": "execute_result"
    }
   ],
   "source": [
    "Sahaj.age"
   ]
  },
  {
   "cell_type": "code",
   "execution_count": 82,
   "id": "e65ecf0a-6885-4611-9ef2-2fd6ef316d7e",
   "metadata": {
    "tags": []
   },
   "outputs": [
    {
     "data": {
      "text/plain": [
       "22"
      ]
     },
     "execution_count": 82,
     "metadata": {},
     "output_type": "execute_result"
    }
   ],
   "source": [
    "kunal.age"
   ]
  },
  {
   "cell_type": "code",
   "execution_count": null,
   "id": "29a48cea-a289-4157-8de9-967a3ea89ed7",
   "metadata": {},
   "outputs": [],
   "source": []
  }
 ],
 "metadata": {
  "kernelspec": {
   "display_name": "Python 3 (ipykernel)",
   "language": "python",
   "name": "python3"
  },
  "language_info": {
   "codemirror_mode": {
    "name": "ipython",
    "version": 3
   },
   "file_extension": ".py",
   "mimetype": "text/x-python",
   "name": "python",
   "nbconvert_exporter": "python",
   "pygments_lexer": "ipython3",
   "version": "3.10.6"
  }
 },
 "nbformat": 4,
 "nbformat_minor": 5
}
