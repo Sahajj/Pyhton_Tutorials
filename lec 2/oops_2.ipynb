{
 "cells": [
  {
   "cell_type": "code",
   "execution_count": 42,
   "id": "4959c5b5-cd64-49ed-b9bb-d66a7d132ea0",
   "metadata": {
    "tags": []
   },
   "outputs": [],
   "source": [
    "class Human:\n",
    "    # static variable : common for all objects of the class\n",
    "    #instace variable : common variable for a fucntion of a class \n",
    "    \n",
    "    population = 0\n",
    "    \n",
    "    def __init__(self, name, age):\n",
    "        self.age = age\n",
    "        self.name = name\n",
    "        \n",
    "        # when a new human comes, increase the population \n",
    "        Human.population += 1"
   ]
  },
  {
   "cell_type": "code",
   "execution_count": 43,
   "id": "7b2461c1-1ed4-4bd1-9634-693d57a5e05d",
   "metadata": {
    "tags": []
   },
   "outputs": [
    {
     "data": {
      "text/plain": [
       "0"
      ]
     },
     "execution_count": 43,
     "metadata": {},
     "output_type": "execute_result"
    }
   ],
   "source": [
    "Human.population "
   ]
  },
  {
   "cell_type": "code",
   "execution_count": 44,
   "id": "9093e7c9-9145-4ecc-b354-eafe94d2c5da",
   "metadata": {
    "tags": []
   },
   "outputs": [],
   "source": [
    "sahaj = Human(\"Sahaj jain \", 30)"
   ]
  },
  {
   "cell_type": "code",
   "execution_count": 45,
   "id": "bb2672eb-fc52-4861-aec3-6d74be9c5307",
   "metadata": {
    "tags": []
   },
   "outputs": [
    {
     "data": {
      "text/plain": [
       "1"
      ]
     },
     "execution_count": 45,
     "metadata": {},
     "output_type": "execute_result"
    }
   ],
   "source": [
    "Human.population"
   ]
  },
  {
   "cell_type": "code",
   "execution_count": 46,
   "id": "ab03af59-c679-4c31-a251-fed0959866a3",
   "metadata": {
    "tags": []
   },
   "outputs": [],
   "source": [
    "apporv = Human(\"Apporve goyel\", 39)"
   ]
  },
  {
   "cell_type": "code",
   "execution_count": 47,
   "id": "9a45b7f7-5ccc-4940-bcdf-1d2db1df90b4",
   "metadata": {
    "tags": []
   },
   "outputs": [
    {
     "data": {
      "text/plain": [
       "2"
      ]
     },
     "execution_count": 47,
     "metadata": {},
     "output_type": "execute_result"
    }
   ],
   "source": [
    "sahaj.population "
   ]
  },
  {
   "cell_type": "code",
   "execution_count": 48,
   "id": "97523873-322a-42a5-819b-922ce076dfb1",
   "metadata": {
    "tags": []
   },
   "outputs": [
    {
     "data": {
      "text/plain": [
       "2"
      ]
     },
     "execution_count": 48,
     "metadata": {},
     "output_type": "execute_result"
    }
   ],
   "source": [
    "Human.population"
   ]
  },
  {
   "cell_type": "code",
   "execution_count": 49,
   "id": "54220797-ec14-442b-a27a-d64819b4365b",
   "metadata": {
    "tags": []
   },
   "outputs": [
    {
     "data": {
      "text/plain": [
       "2"
      ]
     },
     "execution_count": 49,
     "metadata": {},
     "output_type": "execute_result"
    }
   ],
   "source": [
    "apporv.population"
   ]
  },
  {
   "cell_type": "code",
   "execution_count": 66,
   "id": "877253e3-942b-47b8-a564-815b459d3ee0",
   "metadata": {
    "tags": []
   },
   "outputs": [],
   "source": [
    "sahaj.population += 1\n",
    "# this is not changing original one in class \n",
    "# this is creating a new one "
   ]
  },
  {
   "cell_type": "code",
   "execution_count": 67,
   "id": "efcd1957-1567-43f3-8222-f67b28671273",
   "metadata": {
    "tags": []
   },
   "outputs": [
    {
     "data": {
      "text/plain": [
       "(8, 6, 6)"
      ]
     },
     "execution_count": 67,
     "metadata": {},
     "output_type": "execute_result"
    }
   ],
   "source": [
    "sahaj.population, apporv.population, Human.population"
   ]
  },
  {
   "cell_type": "code",
   "execution_count": 68,
   "id": "d540e78b-7074-4883-9406-34f203034926",
   "metadata": {
    "tags": []
   },
   "outputs": [],
   "source": [
    "rahul = Human(\"Rahul\", 29)"
   ]
  },
  {
   "cell_type": "code",
   "execution_count": 69,
   "id": "29333b81-487d-4531-8ec7-b4042f37b5c0",
   "metadata": {
    "tags": []
   },
   "outputs": [
    {
     "data": {
      "text/plain": [
       "(8, 7, 7, 7)"
      ]
     },
     "execution_count": 69,
     "metadata": {},
     "output_type": "execute_result"
    }
   ],
   "source": [
    "sahaj.population, apporv.population, Human.population, rahul.population"
   ]
  },
  {
   "cell_type": "code",
   "execution_count": 60,
   "id": "a495ae23-8d5d-407b-a312-6cde2544c470",
   "metadata": {
    "tags": []
   },
   "outputs": [],
   "source": [
    "Human.population += 1"
   ]
  },
  {
   "cell_type": "code",
   "execution_count": 70,
   "id": "8f41b9e1-3083-449c-a95f-a79addba62fe",
   "metadata": {
    "tags": []
   },
   "outputs": [
    {
     "data": {
      "text/plain": [
       "(8, 7, 7, 7)"
      ]
     },
     "execution_count": 70,
     "metadata": {},
     "output_type": "execute_result"
    }
   ],
   "source": [
    "sahaj.population, apporv.population, Human.population, rahul.population"
   ]
  },
  {
   "cell_type": "code",
   "execution_count": 71,
   "id": "0c4d11cb-42f1-4313-ba3d-eb2cd33b49f7",
   "metadata": {
    "tags": []
   },
   "outputs": [],
   "source": [
    "# static methods "
   ]
  },
  {
   "cell_type": "code",
   "execution_count": 111,
   "id": "9297eb38-83bd-4244-8391-081f130cee5b",
   "metadata": {
    "tags": []
   },
   "outputs": [],
   "source": [
    "class Human:\n",
    "    # static variable : common for all objects of the class\n",
    "    #instace variable : common variable for a fucntion of a class \n",
    "    \n",
    "    population = 0\n",
    "    \n",
    "    def __init__(self, name, age):\n",
    "        self.age = age\n",
    "        self.name = name\n",
    "        \n",
    "        # when a new human comes, increase the population \n",
    "        Human.population += 1\n",
    "        \n",
    "    @staticmethod  # this is called a Decorator\n",
    "    # used to modify behaviour of function\n",
    "    # we will see in detail in future\n",
    "    def fun():\n",
    "        print(Human.population)\n",
    " \n",
    "    def getName(self):\n",
    "        print(self.name)\n",
    "        \n",
    "    \n",
    "    @classmethod\n",
    "    def atomBomb(cls): # cls ki jagah, Human will be pased \n",
    "        cls.population = 0\n",
    "        \n",
    "    @classmethod\n",
    "    def fromString(cls, string, age):\n",
    "        return Human(string, age)"
   ]
  },
  {
   "cell_type": "code",
   "execution_count": 112,
   "id": "a95ee38d-7985-44c6-b438-e11dab7a0e92",
   "metadata": {
    "tags": []
   },
   "outputs": [],
   "source": [
    "kunal = Human(\"Kunal\", 36)\n",
    "rahul = Human(\"Rahul\", 45)"
   ]
  },
  {
   "cell_type": "code",
   "execution_count": 113,
   "id": "a9fd2b2b-6c0a-4af4-b012-7d2a1d192eb6",
   "metadata": {
    "tags": []
   },
   "outputs": [
    {
     "name": "stdout",
     "output_type": "stream",
     "text": [
      "2\n"
     ]
    }
   ],
   "source": [
    "Human.fun()"
   ]
  },
  {
   "cell_type": "code",
   "execution_count": 114,
   "id": "ee2a67d3-dc9e-4097-b42d-12f12313084e",
   "metadata": {
    "tags": []
   },
   "outputs": [
    {
     "name": "stdout",
     "output_type": "stream",
     "text": [
      "Kunal\n"
     ]
    }
   ],
   "source": [
    "kunal.getName()"
   ]
  },
  {
   "cell_type": "code",
   "execution_count": 106,
   "id": "b39621be-f1c9-4f67-ab16-35f63d59b9c2",
   "metadata": {
    "tags": []
   },
   "outputs": [],
   "source": [
    "rahul.atomBomb()"
   ]
  },
  {
   "cell_type": "code",
   "execution_count": 115,
   "id": "83c20857-a657-4997-b9aa-254ae5325483",
   "metadata": {
    "tags": []
   },
   "outputs": [
    {
     "data": {
      "text/plain": [
       "2"
      ]
     },
     "execution_count": 115,
     "metadata": {},
     "output_type": "execute_result"
    }
   ],
   "source": [
    "kunal.population"
   ]
  },
  {
   "cell_type": "code",
   "execution_count": 116,
   "id": "7792b086-f940-4cf8-8a2b-2046c1471da1",
   "metadata": {
    "tags": []
   },
   "outputs": [],
   "source": [
    "approv = Human.fromString(\"Apoorv\", 56)"
   ]
  },
  {
   "cell_type": "code",
   "execution_count": 117,
   "id": "85eb7762-3c50-4438-ae43-8a3abbc76876",
   "metadata": {
    "tags": []
   },
   "outputs": [
    {
     "data": {
      "text/plain": [
       "3"
      ]
     },
     "execution_count": 117,
     "metadata": {},
     "output_type": "execute_result"
    }
   ],
   "source": [
    "approv.population"
   ]
  },
  {
   "cell_type": "code",
   "execution_count": null,
   "id": "170cb783-cc71-4e89-9530-b0654d2c87f1",
   "metadata": {},
   "outputs": [],
   "source": []
  }
 ],
 "metadata": {
  "kernelspec": {
   "display_name": "Python 3 (ipykernel)",
   "language": "python",
   "name": "python3"
  },
  "language_info": {
   "codemirror_mode": {
    "name": "ipython",
    "version": 3
   },
   "file_extension": ".py",
   "mimetype": "text/x-python",
   "name": "python",
   "nbconvert_exporter": "python",
   "pygments_lexer": "ipython3",
   "version": "3.10.6"
  }
 },
 "nbformat": 4,
 "nbformat_minor": 5
}
