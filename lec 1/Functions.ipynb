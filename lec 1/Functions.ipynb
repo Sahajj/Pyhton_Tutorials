{
 "cells": [
  {
   "cell_type": "code",
   "execution_count": 3,
   "id": "f12e5298",
   "metadata": {},
   "outputs": [],
   "source": [
    "def add(a,b):\n",
    "    return a + b"
   ]
  },
  {
   "cell_type": "code",
   "execution_count": 4,
   "id": "b3b49c5c",
   "metadata": {},
   "outputs": [],
   "source": [
    "# if your fucntion body is small, then use inline/lamda fucntions"
   ]
  },
  {
   "cell_type": "code",
   "execution_count": 5,
   "id": "5e9cd604",
   "metadata": {},
   "outputs": [],
   "source": [
    "def fun(a):\n",
    "    print(a)"
   ]
  },
  {
   "cell_type": "code",
   "execution_count": 7,
   "id": "811a3183",
   "metadata": {},
   "outputs": [],
   "source": [
    "fun = lambda a: print(a)"
   ]
  },
  {
   "cell_type": "code",
   "execution_count": 8,
   "id": "7769c6af",
   "metadata": {},
   "outputs": [
    {
     "name": "stdout",
     "output_type": "stream",
     "text": [
      "Hello world\n"
     ]
    }
   ],
   "source": [
    "fun(\"Hello world\")"
   ]
  },
  {
   "cell_type": "code",
   "execution_count": 9,
   "id": "93879abb",
   "metadata": {},
   "outputs": [],
   "source": [
    "add = lambda a,b: a+b"
   ]
  },
  {
   "cell_type": "code",
   "execution_count": 10,
   "id": "06b64b16",
   "metadata": {},
   "outputs": [
    {
     "data": {
      "text/plain": [
       "7"
      ]
     },
     "execution_count": 10,
     "metadata": {},
     "output_type": "execute_result"
    }
   ],
   "source": [
    "add(3,4)"
   ]
  },
  {
   "cell_type": "code",
   "execution_count": 12,
   "id": "0f916ac4",
   "metadata": {},
   "outputs": [],
   "source": [
    "# map fucntions : applies a given fucntion to each element of iterable "
   ]
  },
  {
   "cell_type": "code",
   "execution_count": 14,
   "id": "5b139675",
   "metadata": {},
   "outputs": [],
   "source": [
    "map?"
   ]
  },
  {
   "cell_type": "code",
   "execution_count": 15,
   "id": "7bc95277",
   "metadata": {},
   "outputs": [],
   "source": [
    "# multiply each numebr in list by 2 "
   ]
  },
  {
   "cell_type": "code",
   "execution_count": 16,
   "id": "2551368e",
   "metadata": {},
   "outputs": [],
   "source": [
    "a = [1,2,3,4,5]"
   ]
  },
  {
   "cell_type": "code",
   "execution_count": 17,
   "id": "4a9c439d",
   "metadata": {},
   "outputs": [],
   "source": [
    "def multi(x): # x here is each of a, not whole a!\n",
    "    return 2*x"
   ]
  },
  {
   "cell_type": "code",
   "execution_count": 19,
   "id": "a0674c35",
   "metadata": {},
   "outputs": [],
   "source": [
    "map?"
   ]
  },
  {
   "cell_type": "code",
   "execution_count": 20,
   "id": "40ebde5c",
   "metadata": {},
   "outputs": [
    {
     "data": {
      "text/plain": [
       "[2, 4, 6, 8, 10]"
      ]
     },
     "execution_count": 20,
     "metadata": {},
     "output_type": "execute_result"
    }
   ],
   "source": [
    "list(map (multi, a))"
   ]
  },
  {
   "cell_type": "code",
   "execution_count": 23,
   "id": "ba661cf0",
   "metadata": {},
   "outputs": [
    {
     "data": {
      "text/plain": [
       "[2, 4, 6, 8, 10]"
      ]
     },
     "execution_count": 23,
     "metadata": {},
     "output_type": "execute_result"
    }
   ],
   "source": [
    "list(map(lambda x: 2*x, a))"
   ]
  },
  {
   "cell_type": "code",
   "execution_count": 24,
   "id": "8a47be15",
   "metadata": {},
   "outputs": [],
   "source": [
    "# make every element power of that element "
   ]
  },
  {
   "cell_type": "code",
   "execution_count": 36,
   "id": "00cc8b5a",
   "metadata": {},
   "outputs": [],
   "source": [
    "a = [2,4,6,8,10]"
   ]
  },
  {
   "cell_type": "code",
   "execution_count": 37,
   "id": "062b7c7b",
   "metadata": {},
   "outputs": [
    {
     "data": {
      "text/plain": [
       "[4, 16, 36, 64, 100]"
      ]
     },
     "execution_count": 37,
     "metadata": {},
     "output_type": "execute_result"
    }
   ],
   "source": [
    "list(map(lambda x: x**2,a))"
   ]
  },
  {
   "cell_type": "code",
   "execution_count": 38,
   "id": "dfa4c672",
   "metadata": {},
   "outputs": [],
   "source": [
    "# ques: I only want even numebrs \n",
    "# Filter : in thsi, the funtion return True or Flase only!\n"
   ]
  },
  {
   "cell_type": "code",
   "execution_count": 39,
   "id": "9fa5eb95",
   "metadata": {},
   "outputs": [],
   "source": [
    "def isEven(x):\n",
    "    # check if the num is even or not \n",
    "    if x % 2 == 0:\n",
    "        return True\n",
    "    else:\n",
    "        return False"
   ]
  },
  {
   "cell_type": "code",
   "execution_count": 40,
   "id": "dac8b9b4",
   "metadata": {},
   "outputs": [
    {
     "data": {
      "text/plain": [
       "[2, 4, 6, 8, 10]"
      ]
     },
     "execution_count": 40,
     "metadata": {},
     "output_type": "execute_result"
    }
   ],
   "source": [
    "list(filter(isEven, a))"
   ]
  },
  {
   "cell_type": "code",
   "execution_count": 42,
   "id": "35059110",
   "metadata": {},
   "outputs": [
    {
     "data": {
      "text/plain": [
       "[2, 4, 6, 8, 10]"
      ]
     },
     "execution_count": 42,
     "metadata": {},
     "output_type": "execute_result"
    }
   ],
   "source": [
    "list(filter(lambda x: x%2==0, a))"
   ]
  },
  {
   "cell_type": "code",
   "execution_count": 43,
   "id": "0fd4e9d9",
   "metadata": {},
   "outputs": [
    {
     "data": {
      "text/plain": [
       "'\\nhello wolrd how you doin\\n'"
      ]
     },
     "execution_count": 43,
     "metadata": {},
     "output_type": "execute_result"
    }
   ],
   "source": [
    "\"\"\"\n",
    "hello wolrd how you doin\n",
    "\"\"\""
   ]
  },
  {
   "cell_type": "code",
   "execution_count": 47,
   "id": "a86272d4",
   "metadata": {},
   "outputs": [],
   "source": [
    "def fun():\n",
    "    pass "
   ]
  },
  {
   "cell_type": "code",
   "execution_count": 49,
   "id": "bedf6ecd",
   "metadata": {},
   "outputs": [],
   "source": [
    "def fun():\n",
    "    \"\"\"\n",
    "    this is i commnet(really?)\n",
    "    \"\"\""
   ]
  },
  {
   "cell_type": "code",
   "execution_count": 50,
   "id": "449d5a18",
   "metadata": {},
   "outputs": [
    {
     "ename": "SyntaxError",
     "evalue": "incomplete input (3042622373.py, line 2)",
     "output_type": "error",
     "traceback": [
      "\u001b[0;36m  Cell \u001b[0;32mIn[50], line 2\u001b[0;36m\u001b[0m\n\u001b[0;31m    #this is actually an commnet\u001b[0m\n\u001b[0m                                 ^\u001b[0m\n\u001b[0;31mSyntaxError\u001b[0m\u001b[0;31m:\u001b[0m incomplete input\n"
     ]
    }
   ],
   "source": [
    "def fun():\n",
    "    #this is actually an commnet "
   ]
  },
  {
   "cell_type": "code",
   "execution_count": 51,
   "id": "8730dde0",
   "metadata": {},
   "outputs": [],
   "source": [
    "# in pyhton their is only one way to give comments i.e#\n"
   ]
  },
  {
   "cell_type": "code",
   "execution_count": 52,
   "id": "eba10b90",
   "metadata": {},
   "outputs": [],
   "source": [
    "#these are multiline strings. \"\"\"\"\"\" or ''''''"
   ]
  },
  {
   "cell_type": "code",
   "execution_count": 53,
   "id": "7b5899d6",
   "metadata": {},
   "outputs": [],
   "source": [
    "# fun fact "
   ]
  },
  {
   "cell_type": "code",
   "execution_count": 54,
   "id": "caccd7f3",
   "metadata": {},
   "outputs": [],
   "source": [
    "# every thing in pyhton objcet \n",
    "# Functions are also objects \n",
    "# classes are also object"
   ]
  },
  {
   "cell_type": "code",
   "execution_count": 55,
   "id": "6ca44110",
   "metadata": {},
   "outputs": [],
   "source": [
    "a = 10 "
   ]
  },
  {
   "cell_type": "code",
   "execution_count": 59,
   "id": "0e5ec538",
   "metadata": {},
   "outputs": [
    {
     "data": {
      "text/plain": [
       "True"
      ]
     },
     "execution_count": 59,
     "metadata": {},
     "output_type": "execute_result"
    }
   ],
   "source": [
    "isinstance(a, object)"
   ]
  },
  {
   "cell_type": "code",
   "execution_count": 58,
   "id": "8dc8983d",
   "metadata": {},
   "outputs": [],
   "source": [
    "isinstance?"
   ]
  },
  {
   "cell_type": "code",
   "execution_count": null,
   "id": "99adca31",
   "metadata": {},
   "outputs": [],
   "source": []
  }
 ],
 "metadata": {
  "kernelspec": {
   "display_name": "Python 3 (ipykernel)",
   "language": "python",
   "name": "python3"
  },
  "language_info": {
   "codemirror_mode": {
    "name": "ipython",
    "version": 3
   },
   "file_extension": ".py",
   "mimetype": "text/x-python",
   "name": "python",
   "nbconvert_exporter": "python",
   "pygments_lexer": "ipython3",
   "version": "3.10.6"
  }
 },
 "nbformat": 4,
 "nbformat_minor": 5
}
