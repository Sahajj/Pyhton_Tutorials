{
 "cells": [
  {
   "cell_type": "code",
   "execution_count": 1,
   "id": "7dbf07e2",
   "metadata": {},
   "outputs": [],
   "source": [
    " t = [2*i for i in range (1, 11)]"
   ]
  },
  {
   "cell_type": "code",
   "execution_count": 2,
   "id": "6bc9e22b",
   "metadata": {},
   "outputs": [
    {
     "data": {
      "text/plain": [
       "[2, 4, 6, 8, 10, 12, 14, 16, 18, 20]"
      ]
     },
     "execution_count": 2,
     "metadata": {},
     "output_type": "execute_result"
    }
   ],
   "source": [
    "t\n"
   ]
  },
  {
   "cell_type": "code",
   "execution_count": 3,
   "id": "768f7e61",
   "metadata": {},
   "outputs": [],
   "source": [
    "# 1 to 10 tables "
   ]
  },
  {
   "cell_type": "code",
   "execution_count": 7,
   "id": "85f4a56b",
   "metadata": {},
   "outputs": [],
   "source": [
    "a = [\n",
    "    [1, 2],\n",
    "    [3, 4],\n",
    "]"
   ]
  },
  {
   "cell_type": "code",
   "execution_count": 8,
   "id": "c2dd37c5",
   "metadata": {},
   "outputs": [
    {
     "data": {
      "text/plain": [
       "2"
      ]
     },
     "execution_count": 8,
     "metadata": {},
     "output_type": "execute_result"
    }
   ],
   "source": [
    "a [0][1]"
   ]
  },
  {
   "cell_type": "code",
   "execution_count": 9,
   "id": "db117c9e",
   "metadata": {},
   "outputs": [],
   "source": [
    "# print 2d list \n",
    "# to print i should know the len of Row and len of Column "
   ]
  },
  {
   "cell_type": "code",
   "execution_count": 11,
   "id": "1473c28b",
   "metadata": {},
   "outputs": [
    {
     "data": {
      "text/plain": [
       "2"
      ]
     },
     "execution_count": 11,
     "metadata": {},
     "output_type": "execute_result"
    }
   ],
   "source": [
    "len(a) #Number of rows "
   ]
  },
  {
   "cell_type": "code",
   "execution_count": 24,
   "id": "3c31b00f",
   "metadata": {},
   "outputs": [
    {
     "data": {
      "text/plain": [
       "2"
      ]
     },
     "execution_count": 24,
     "metadata": {},
     "output_type": "execute_result"
    }
   ],
   "source": [
    "len(a[0]) # Number of Columns in row 0 "
   ]
  },
  {
   "cell_type": "code",
   "execution_count": 25,
   "id": "3c215b4a",
   "metadata": {},
   "outputs": [
    {
     "name": "stdout",
     "output_type": "stream",
     "text": [
      "[[1, 2], [3, 4]]\n"
     ]
    }
   ],
   "source": [
    "print(a)"
   ]
  },
  {
   "cell_type": "code",
   "execution_count": 26,
   "id": "7b025654",
   "metadata": {},
   "outputs": [
    {
     "name": "stdout",
     "output_type": "stream",
     "text": [
      "1 2 \n",
      "3 4 \n"
     ]
    }
   ],
   "source": [
    "for i in range(0, len(a)): #going through each row \n",
    "    for j in range(0, len(a)): # going throufh each column for each row \n",
    "        print(a[i][j], end=\" \") # priniting in same line for each row and column\n",
    "    print() # divinding the ouput in matrix like structure."
   ]
  },
  {
   "cell_type": "code",
   "execution_count": 31,
   "id": "225a19bd",
   "metadata": {},
   "outputs": [],
   "source": [
    "n = 3 "
   ]
  },
  {
   "cell_type": "code",
   "execution_count": 32,
   "id": "b0cbb3ff",
   "metadata": {},
   "outputs": [],
   "source": [
    "a = [i*n for i in range(1, 11)]"
   ]
  },
  {
   "cell_type": "code",
   "execution_count": 34,
   "id": "3b54c228",
   "metadata": {},
   "outputs": [
    {
     "data": {
      "text/plain": [
       "[3, 6, 9, 12, 15, 18, 21, 24, 27, 30]"
      ]
     },
     "execution_count": 34,
     "metadata": {},
     "output_type": "execute_result"
    }
   ],
   "source": [
    "a"
   ]
  },
  {
   "cell_type": "code",
   "execution_count": 39,
   "id": "6eaf6018",
   "metadata": {},
   "outputs": [],
   "source": [
    "t = [[i*n for i in range (1, 11)] for n in range(1,21)]"
   ]
  },
  {
   "cell_type": "code",
   "execution_count": 40,
   "id": "5cbe60f9",
   "metadata": {},
   "outputs": [
    {
     "data": {
      "text/plain": [
       "[[1, 2, 3, 4, 5, 6, 7, 8, 9, 10],\n",
       " [2, 4, 6, 8, 10, 12, 14, 16, 18, 20],\n",
       " [3, 6, 9, 12, 15, 18, 21, 24, 27, 30],\n",
       " [4, 8, 12, 16, 20, 24, 28, 32, 36, 40],\n",
       " [5, 10, 15, 20, 25, 30, 35, 40, 45, 50],\n",
       " [6, 12, 18, 24, 30, 36, 42, 48, 54, 60],\n",
       " [7, 14, 21, 28, 35, 42, 49, 56, 63, 70],\n",
       " [8, 16, 24, 32, 40, 48, 56, 64, 72, 80],\n",
       " [9, 18, 27, 36, 45, 54, 63, 72, 81, 90],\n",
       " [10, 20, 30, 40, 50, 60, 70, 80, 90, 100],\n",
       " [11, 22, 33, 44, 55, 66, 77, 88, 99, 110],\n",
       " [12, 24, 36, 48, 60, 72, 84, 96, 108, 120],\n",
       " [13, 26, 39, 52, 65, 78, 91, 104, 117, 130],\n",
       " [14, 28, 42, 56, 70, 84, 98, 112, 126, 140],\n",
       " [15, 30, 45, 60, 75, 90, 105, 120, 135, 150],\n",
       " [16, 32, 48, 64, 80, 96, 112, 128, 144, 160],\n",
       " [17, 34, 51, 68, 85, 102, 119, 136, 153, 170],\n",
       " [18, 36, 54, 72, 90, 108, 126, 144, 162, 180],\n",
       " [19, 38, 57, 76, 95, 114, 133, 152, 171, 190],\n",
       " [20, 40, 60, 80, 100, 120, 140, 160, 180, 200]]"
      ]
     },
     "execution_count": 40,
     "metadata": {},
     "output_type": "execute_result"
    }
   ],
   "source": [
    "t"
   ]
  },
  {
   "cell_type": "code",
   "execution_count": null,
   "id": "6a8d8b99",
   "metadata": {},
   "outputs": [],
   "source": [
    "# range, List, Comprension, Loops"
   ]
  }
 ],
 "metadata": {
  "kernelspec": {
   "display_name": "Python 3 (ipykernel)",
   "language": "python",
   "name": "python3"
  },
  "language_info": {
   "codemirror_mode": {
    "name": "ipython",
    "version": 3
   },
   "file_extension": ".py",
   "mimetype": "text/x-python",
   "name": "python",
   "nbconvert_exporter": "python",
   "pygments_lexer": "ipython3",
   "version": "3.10.6"
  }
 },
 "nbformat": 4,
 "nbformat_minor": 5
}
