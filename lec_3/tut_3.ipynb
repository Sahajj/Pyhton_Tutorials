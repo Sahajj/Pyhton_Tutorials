{
 "cells": [
  {
   "cell_type": "code",
   "execution_count": 2,
   "id": "c5bd0d04-8bec-406e-8a19-187c84b9d298",
   "metadata": {
    "tags": []
   },
   "outputs": [],
   "source": [
    "# modules "
   ]
  },
  {
   "cell_type": "code",
   "execution_count": 3,
   "id": "1546c9ac-f7b2-408e-a075-54d68279b65e",
   "metadata": {
    "tags": []
   },
   "outputs": [],
   "source": [
    "import random "
   ]
  },
  {
   "cell_type": "code",
   "execution_count": 4,
   "id": "35f58f08-c3c4-4702-bc19-13d26cc7cd54",
   "metadata": {
    "tags": []
   },
   "outputs": [
    {
     "data": {
      "text/plain": [
       "11"
      ]
     },
     "execution_count": 4,
     "metadata": {},
     "output_type": "execute_result"
    }
   ],
   "source": [
    "random.randint(1, 100)"
   ]
  },
  {
   "cell_type": "code",
   "execution_count": 5,
   "id": "46ceb9cc-0697-416a-a1f4-a5d66738dd3e",
   "metadata": {
    "tags": []
   },
   "outputs": [],
   "source": [
    "a = [1,2,3,4,5]"
   ]
  },
  {
   "cell_type": "code",
   "execution_count": 10,
   "id": "c4a1be7a-e19f-4cc5-aebc-129828c52a27",
   "metadata": {
    "tags": []
   },
   "outputs": [
    {
     "data": {
      "text/plain": [
       "4"
      ]
     },
     "execution_count": 10,
     "metadata": {},
     "output_type": "execute_result"
    }
   ],
   "source": [
    "random.choice(a)"
   ]
  },
  {
   "cell_type": "code",
   "execution_count": 11,
   "id": "c5abd102-683c-4e53-8bf4-6cbbc6433a34",
   "metadata": {
    "tags": []
   },
   "outputs": [],
   "source": [
    "import os"
   ]
  },
  {
   "cell_type": "code",
   "execution_count": 12,
   "id": "b9edb012-b806-426a-b948-8f3e28af9b92",
   "metadata": {
    "tags": []
   },
   "outputs": [
    {
     "data": {
      "text/plain": [
       "'/usr/lib/python3.10/os.py'"
      ]
     },
     "execution_count": 12,
     "metadata": {},
     "output_type": "execute_result"
    }
   ],
   "source": [
    "os.__file__"
   ]
  },
  {
   "cell_type": "code",
   "execution_count": 14,
   "id": "95537c61-8a12-444c-bb01-245b3ac85e20",
   "metadata": {
    "tags": []
   },
   "outputs": [
    {
     "data": {
      "text/plain": [
       "\u001b[0;31mDocstring:\u001b[0m\n",
       "dir([object]) -> list of strings\n",
       "\n",
       "If called without an argument, return the names in the current scope.\n",
       "Else, return an alphabetized list of names comprising (some of) the attributes\n",
       "of the given object, and of attributes reachable from it.\n",
       "If the object supplies a method named __dir__, it will be used; otherwise\n",
       "the default dir() logic is used and returns:\n",
       "  for a module object: the module's attributes.\n",
       "  for a class object:  its attributes, and recursively the attributes\n",
       "    of its bases.\n",
       "  for any other object: its attributes, its class's attributes, and\n",
       "    recursively the attributes of its class's base classes.\n",
       "\u001b[0;31mType:\u001b[0m      builtin_function_or_method"
      ]
     },
     "metadata": {},
     "output_type": "display_data"
    }
   ],
   "source": [
    "dir?"
   ]
  },
  {
   "cell_type": "code",
   "execution_count": 15,
   "id": "81eb7dda-4b3b-41ae-bc73-0d25284df814",
   "metadata": {
    "tags": []
   },
   "outputs": [],
   "source": [
    "#dir(os) this will give all the commnads that are present in the python maodule."
   ]
  },
  {
   "cell_type": "code",
   "execution_count": 23,
   "id": "ec525cb1-402b-4c6d-bf08-2d201be6e747",
   "metadata": {
    "tags": []
   },
   "outputs": [
    {
     "data": {
      "text/plain": [
       "['tut_3.ipynb', '.ipynb_checkpoints', 'tutorial_3']"
      ]
     },
     "execution_count": 23,
     "metadata": {},
     "output_type": "execute_result"
    }
   ],
   "source": [
    "os.listdir() #ls or list all "
   ]
  },
  {
   "cell_type": "code",
   "execution_count": 17,
   "id": "6ef3a504-0b9e-4292-9441-332a8b64f65e",
   "metadata": {
    "tags": []
   },
   "outputs": [
    {
     "data": {
      "text/plain": [
       "'/home/sahaj9/tutorials/lec_3'"
      ]
     },
     "execution_count": 17,
     "metadata": {},
     "output_type": "execute_result"
    }
   ],
   "source": [
    "os.getcwd() # path of the file."
   ]
  },
  {
   "cell_type": "code",
   "execution_count": 20,
   "id": "7a41f82a-9f2b-4839-9794-b47bbf0c1d88",
   "metadata": {
    "tags": []
   },
   "outputs": [
    {
     "ename": "FileExistsError",
     "evalue": "[Errno 17] File exists: 'Demo'",
     "output_type": "error",
     "traceback": [
      "\u001b[0;31m---------------------------------------------------------------------------\u001b[0m",
      "\u001b[0;31mFileExistsError\u001b[0m                           Traceback (most recent call last)",
      "Cell \u001b[0;32mIn[20], line 1\u001b[0m\n\u001b[0;32m----> 1\u001b[0m \u001b[43mos\u001b[49m\u001b[38;5;241;43m.\u001b[39;49m\u001b[43mmkdir\u001b[49m\u001b[43m(\u001b[49m\u001b[38;5;124;43m'\u001b[39;49m\u001b[38;5;124;43mDemo\u001b[39;49m\u001b[38;5;124;43m'\u001b[39;49m\u001b[43m)\u001b[49m\n",
      "\u001b[0;31mFileExistsError\u001b[0m: [Errno 17] File exists: 'Demo'"
     ]
    }
   ],
   "source": [
    "os.mkdir('Demo') # creates directory \n",
    "os.removedirs('Demo')  # deletes the directory "
   ]
  },
  {
   "cell_type": "code",
   "execution_count": 19,
   "id": "0091c3cd-90e9-476b-8e9c-08f03beb5baf",
   "metadata": {
    "tags": []
   },
   "outputs": [],
   "source": [
    "os.rename('tutorial_3.ipynb', 'tut_3.ipynb') # renames teh "
   ]
  },
  {
   "cell_type": "code",
   "execution_count": 22,
   "id": "08102374-ef16-495c-b129-edce180f0055",
   "metadata": {
    "tags": []
   },
   "outputs": [],
   "source": [
    "os.removedirs('Demo')"
   ]
  },
  {
   "cell_type": "code",
   "execution_count": null,
   "id": "767659f5-c292-4606-8651-294afdb1f515",
   "metadata": {},
   "outputs": [],
   "source": []
  }
 ],
 "metadata": {
  "kernelspec": {
   "display_name": "Python 3 (ipykernel)",
   "language": "python",
   "name": "python3"
  },
  "language_info": {
   "codemirror_mode": {
    "name": "ipython",
    "version": 3
   },
   "file_extension": ".py",
   "mimetype": "text/x-python",
   "name": "python",
   "nbconvert_exporter": "python",
   "pygments_lexer": "ipython3",
   "version": "3.10.6"
  }
 },
 "nbformat": 4,
 "nbformat_minor": 5
}
