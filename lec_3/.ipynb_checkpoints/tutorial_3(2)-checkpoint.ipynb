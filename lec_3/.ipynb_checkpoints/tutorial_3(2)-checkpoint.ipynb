{
 "cells": [
  {
   "cell_type": "code",
   "execution_count": 1,
   "id": "0bf63d2f-5bcb-4fd4-a6ff-86bb901d8e45",
   "metadata": {
    "tags": []
   },
   "outputs": [],
   "source": [
    "# file Handeling"
   ]
  },
  {
   "cell_type": "code",
   "execution_count": 2,
   "id": "01838148-292d-4114-bffc-a6313e8b0ad9",
   "metadata": {
    "tags": []
   },
   "outputs": [],
   "source": [
    " #context manager "
   ]
  },
  {
   "cell_type": "code",
   "execution_count": 3,
   "id": "6de71b3a-193b-4bc3-8d90-fe5952bea7a8",
   "metadata": {
    "tags": []
   },
   "outputs": [],
   "source": [
    "# reading a file in pyhton "
   ]
  },
  {
   "cell_type": "code",
   "execution_count": 5,
   "id": "8c0c1162-a50d-443e-96f0-4b8eab387f26",
   "metadata": {
    "tags": []
   },
   "outputs": [
    {
     "name": "stdout",
     "output_type": "stream",
     "text": [
      "hello my name is Sahaj jain \n"
     ]
    }
   ],
   "source": [
    "with open(\"first.txt\", \"r\") as file:\n",
    "    print(file.read())"
   ]
  },
  {
   "cell_type": "code",
   "execution_count": 7,
   "id": "c0a8250a-66dd-4ba8-9467-cf75e5e98efd",
   "metadata": {
    "tags": []
   },
   "outputs": [],
   "source": [
    "# what is context managers --> \n",
    "# when the computer tries to read a file it basically \n",
    "# takes it to the ram and the read it there but let's say\n",
    "# i am on the 3rd line of the file (my pointer is     \n",
    "# is on the thrid line of the file.) and i wnat to read it \n",
    "# from the start now so what i have to do is like \n",
    "# append the file again from the memory loacction \n",
    "# and start reading from the line 1 \n",
    "# THIS IS DONE BY CONTEXT MANAGERS\n",
    "# IF we don't use context manager the computer will \n",
    "# read the file from the line 3 and that will\n",
    "# courupt the file.\n",
    "\n",
    "\n",
    "# memory flushing --> flushing a file out of the memory \n",
    "# and then geting it again in memeory to read from the start \n"
   ]
  },
  {
   "cell_type": "code",
   "execution_count": 8,
   "id": "ae361c11-609b-4009-8037-2c9a272ac8aa",
   "metadata": {
    "tags": []
   },
   "outputs": [],
   "source": [
    "# wrtie in file "
   ]
  },
  {
   "cell_type": "code",
   "execution_count": 9,
   "id": "5595faf0-6e6c-4a8f-a5e6-24171c9cb5f5",
   "metadata": {
    "tags": []
   },
   "outputs": [],
   "source": [
    "with open(\"second.txt\", \"w\") as file:\n",
    "    file.write(\"Hello this is written by file.write\")"
   ]
  },
  {
   "cell_type": "code",
   "execution_count": 10,
   "id": "9823b349-83a7-4b1b-ab60-bdfe3bb62615",
   "metadata": {
    "tags": []
   },
   "outputs": [],
   "source": [
    "# csv files "
   ]
  },
  {
   "cell_type": "code",
   "execution_count": 11,
   "id": "ce266d75-a958-44fb-a8a0-3d36590c9388",
   "metadata": {
    "tags": []
   },
   "outputs": [],
   "source": [
    "# panadas are used to read csv files."
   ]
  },
  {
   "cell_type": "code",
   "execution_count": null,
   "id": "43ede2cd-ace5-4943-8cf1-6d26809fea02",
   "metadata": {},
   "outputs": [],
   "source": []
  }
 ],
 "metadata": {
  "kernelspec": {
   "display_name": "Python 3 (ipykernel)",
   "language": "python",
   "name": "python3"
  },
  "language_info": {
   "codemirror_mode": {
    "name": "ipython",
    "version": 3
   },
   "file_extension": ".py",
   "mimetype": "text/x-python",
   "name": "python",
   "nbconvert_exporter": "python",
   "pygments_lexer": "ipython3",
   "version": "3.10.6"
  }
 },
 "nbformat": 4,
 "nbformat_minor": 5
}
